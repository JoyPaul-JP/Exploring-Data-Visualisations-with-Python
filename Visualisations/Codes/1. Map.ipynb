{
 "cells": [
  {
   "cell_type": "code",
   "execution_count": 1,
   "id": "89a022b6-30ec-4853-b541-2a01e5009e19",
   "metadata": {},
   "outputs": [
    {
     "data": {
      "text/html": [
       "\n",
       "        <iframe\n",
       "            width=\"800\"\n",
       "            height=\"600\"\n",
       "            src=\"collision_map.html\"\n",
       "            frameborder=\"0\"\n",
       "            allowfullscreen\n",
       "            \n",
       "        ></iframe>\n",
       "        "
      ],
      "text/plain": [
       "<IPython.lib.display.IFrame at 0x207241646e0>"
      ]
     },
     "execution_count": 1,
     "metadata": {},
     "output_type": "execute_result"
    }
   ],
   "source": [
    "import pandas as pd\n",
    "import folium\n",
    "from folium.plugins import FastMarkerCluster\n",
    "from IPython.display import IFrame\n",
    "\n",
    "# Load the dataset\n",
    "df = pd.read_csv('F:/Works/Data Visualisation/Datasets/motor_collision_cleaned.csv', low_memory=False)\n",
    "\n",
    "# Filter out rows with missing latitude and longitude values\n",
    "df = df.dropna(subset=['LATITUDE', 'LONGITUDE'])\n",
    "\n",
    "# Group the data by latitude and longitude and count the number of collisions at each location\n",
    "collision_counts = df.groupby(['LATITUDE', 'LONGITUDE']).size().reset_index(name='COLLISION_COUNT')\n",
    "\n",
    "# Create a map centered at the mean latitude and longitude\n",
    "map_center = [df['LATITUDE'].mean(), df['LONGITUDE'].mean()]\n",
    "mymap = folium.Map(location=map_center, zoom_start=11)\n",
    "\n",
    "# Add a FastMarkerCluster layer for better performance with large datasets\n",
    "FastMarkerCluster(data=collision_counts[['LATITUDE', 'LONGITUDE']].values.tolist()).add_to(mymap)\n",
    "\n",
    "# Save the map as an HTML file\n",
    "mymap.save(\"F:/Works/Data Visualisation/Final Plots/collision_map.html\")\n",
    "\n",
    "# Display the map in the notebook using an iframe\n",
    "IFrame(src=\"collision_map.html\", width=800, height=600)"
   ]
  },
  {
   "cell_type": "code",
   "execution_count": null,
   "id": "f60cd63d-5755-4f58-abe2-4ba30e6a393a",
   "metadata": {},
   "outputs": [],
   "source": []
  }
 ],
 "metadata": {
  "kernelspec": {
   "display_name": "Python 3 (ipykernel)",
   "language": "python",
   "name": "python3"
  },
  "language_info": {
   "codemirror_mode": {
    "name": "ipython",
    "version": 3
   },
   "file_extension": ".py",
   "mimetype": "text/x-python",
   "name": "python",
   "nbconvert_exporter": "python",
   "pygments_lexer": "ipython3",
   "version": "3.12.3"
  }
 },
 "nbformat": 4,
 "nbformat_minor": 5
}
