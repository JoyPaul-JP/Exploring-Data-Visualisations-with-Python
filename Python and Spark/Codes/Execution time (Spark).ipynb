{
 "cells": [
  {
   "cell_type": "code",
   "execution_count": 4,
   "id": "a96998bb-0109-4928-acdd-5ae76730f949",
   "metadata": {},
   "outputs": [
    {
     "name": "stdout",
     "output_type": "stream",
     "text": [
      "Execution time (Spark): 12.0993971824646 seconds\n"
     ]
    }
   ],
   "source": [
    "import time\n",
    "from pyspark.sql import SparkSession\n",
    "\n",
    "# Create a Spark session\n",
    "spark = SparkSession.builder \\\n",
    "    .appName(\"MotorCollisionAnalysis\") \\\n",
    "    .getOrCreate()\n",
    "\n",
    "# Start measuring execution time\n",
    "start_time = time.time()\n",
    "\n",
    "# Load the dataset into a Spark DataFrame\n",
    "df = spark.read.csv(\"F:/Works/Data Visualisation/Datasets/Motor_Vehicle_Collisions.csv\", header=True, inferSchema=True)\n",
    "\n",
    "# Removing rows with blank values in the \"LOCATION\" column\n",
    "df = df.dropna(subset=['LOCATION'])\n",
    "\n",
    "# Reset index to maintain continuity\n",
    "df.createOrReplaceTempView(\"df\")\n",
    "\n",
    "# Stop measuring execution time\n",
    "end_time = time.time()\n",
    "execution_time = end_time - start_time\n",
    "\n",
    "print(\"Execution time (Spark):\", execution_time, \"seconds\")\n",
    "# Stop the Spark session\n",
    "spark.stop()"
   ]
  },
  {
   "cell_type": "code",
   "execution_count": null,
   "id": "f6666ea2-a319-4ed0-a77d-dab8dc8b82eb",
   "metadata": {},
   "outputs": [],
   "source": []
  }
 ],
 "metadata": {
  "kernelspec": {
   "display_name": "Python 3 (ipykernel)",
   "language": "python",
   "name": "python3"
  },
  "language_info": {
   "codemirror_mode": {
    "name": "ipython",
    "version": 3
   },
   "file_extension": ".py",
   "mimetype": "text/x-python",
   "name": "python",
   "nbconvert_exporter": "python",
   "pygments_lexer": "ipython3",
   "version": "3.12.3"
  }
 },
 "nbformat": 4,
 "nbformat_minor": 5
}
