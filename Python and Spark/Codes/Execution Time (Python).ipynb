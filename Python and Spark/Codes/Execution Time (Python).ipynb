{
 "cells": [
  {
   "cell_type": "code",
   "execution_count": 3,
   "id": "060c95cf-f0f7-4291-8cf1-b91982380137",
   "metadata": {},
   "outputs": [
    {
     "name": "stdout",
     "output_type": "stream",
     "text": [
      "Execution time (Python): 18.55703067779541 seconds\n"
     ]
    }
   ],
   "source": [
    "import pandas as pd\n",
    "import time\n",
    "\n",
    "start_time = time.time()\n",
    "\n",
    "df = pd.read_csv(\"F:/Works/Data Visualisation/Datasets/Motor_Vehicle_Collisions.csv\", low_memory=False)\n",
    "\n",
    "# Removing rows with blank values in the \"LOCATION\" column\n",
    "df = df.dropna(subset=['LOCATION'])\n",
    "\n",
    "df.reset_index(drop=True, inplace=True)\n",
    "\n",
    "end_time = time.time()\n",
    "execution_time = end_time - start_time\n",
    "\n",
    "print(\"Execution time (Python):\", execution_time, \"seconds\")"
   ]
  },
  {
   "cell_type": "code",
   "execution_count": null,
   "id": "2310ad93-fd7b-42ed-a05d-9e5ace6b98b4",
   "metadata": {},
   "outputs": [],
   "source": []
  }
 ],
 "metadata": {
  "kernelspec": {
   "display_name": "Python 3 (ipykernel)",
   "language": "python",
   "name": "python3"
  },
  "language_info": {
   "codemirror_mode": {
    "name": "ipython",
    "version": 3
   },
   "file_extension": ".py",
   "mimetype": "text/x-python",
   "name": "python",
   "nbconvert_exporter": "python",
   "pygments_lexer": "ipython3",
   "version": "3.12.3"
  }
 },
 "nbformat": 4,
 "nbformat_minor": 5
}
