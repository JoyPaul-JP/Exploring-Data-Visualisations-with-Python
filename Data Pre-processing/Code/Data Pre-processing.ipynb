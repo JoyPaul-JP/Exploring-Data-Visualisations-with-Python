{
 "cells": [
  {
   "cell_type": "code",
   "execution_count": 17,
   "id": "cfe62964-8a2f-4996-954a-49ba8a71bd35",
   "metadata": {},
   "outputs": [],
   "source": [
    "import pandas as pd\n",
    "\n",
    "# Read the dataset\n",
    "df = pd.read_csv(\"F:/Works/Data Visualisation/Datasets/Motor_Vehicle_Collisions_-_Crashes.csv\", low_memory=False)\n",
    "\n",
    "# Remove rows with blank values in the \"LOCATION\", \"ZIP CODE\", \"BOROUGH\", \"CONTRIBUTING FACTOR VEHICLE 1\" and \"VEHICLE TYPE CODE 1\" columns\n",
    "df = df.dropna(subset=['LOCATION', 'ZIP CODE', 'BOROUGH', 'CONTRIBUTING FACTOR VEHICLE 1', 'VEHICLE TYPE CODE 1'])\n",
    "\n",
    "# Reset index after dropping rows\n",
    "df.reset_index(drop=True, inplace=True)\n",
    "\n",
    "# Drop irrelevant contributing factor and vehicle type code columns\n",
    "columns_to_drop = ['CONTRIBUTING FACTOR VEHICLE 2', 'CONTRIBUTING FACTOR VEHICLE 3', \n",
    "                   'CONTRIBUTING FACTOR VEHICLE 4', 'CONTRIBUTING FACTOR VEHICLE 5', \n",
    "                   'VEHICLE TYPE CODE 2', 'VEHICLE TYPE CODE 3', 'VEHICLE TYPE CODE 4', 'VEHICLE TYPE CODE 5']\n",
    "df = df.drop(columns=columns_to_drop)\n",
    "\n",
    "# Convert \"CRASH DATE\" and \"CRASH TIME\" columns to datetime format\n",
    "df['CRASH DATE'] = pd.to_datetime(df['CRASH DATE'], errors='coerce')\n",
    "df['CRASH TIME'] = pd.to_datetime(df['CRASH TIME'], format='%H:%M', errors='coerce').dt.time\n",
    "\n",
    "# Categorize time of day based on \"CRASH TIME\"\n",
    "def categorize_time(time):\n",
    "    if pd.Timestamp('00:00:00').time() <= time <= pd.Timestamp('05:59:59').time():\n",
    "        return '12:00 am to 5:59 am'\n",
    "    elif pd.Timestamp('06:00:00').time() <= time <= pd.Timestamp('10:59:59').time():\n",
    "        return '6 am to 10:59 am'\n",
    "    elif pd.Timestamp('11:00:00').time() <= time <= pd.Timestamp('17:59:59').time():\n",
    "        return '11 am to 5:59 pm'\n",
    "    else:\n",
    "        return '6 pm to 11:59 pm'\n",
    "\n",
    "df['Time of Day'] = df['CRASH TIME'].apply(categorize_time)\n",
    "\n",
    "# Map day of week to \"Weekday\" or \"Weekend\"\n",
    "def map_day_to_type_of_day(day):\n",
    "    if day < 5:  # Monday to Friday (0-4)\n",
    "        return 'Weekday'\n",
    "    else:       # Saturday and Sunday (5-6)\n",
    "        return 'Weekend'\n",
    "\n",
    "df['Type of Day'] = df['CRASH DATE'].dt.dayofweek.apply(map_day_to_type_of_day)\n",
    "\n",
    "# Categorize time as \"Daytime\" or \"Nighttime\"\n",
    "def categorize_day_or_night(crash_time):\n",
    "    if crash_time.hour >= 6 and crash_time.hour < 18:\n",
    "        return 'Daytime'\n",
    "    else:\n",
    "        return 'Nighttime'\n",
    "\n",
    "df['Day/Night'] = df['CRASH DATE'].apply(categorize_day_or_night)\n",
    "\n",
    "# Save the pre-processed dataset\n",
    "df.to_csv(\"F:/Works/Data Visualisation/Datasets/motor_collision_cleaned.csv\", index=False)"
   ]
  },
  {
   "cell_type": "code",
   "execution_count": null,
   "id": "da46b29b-1e83-4781-bf48-4a09ef974f88",
   "metadata": {},
   "outputs": [],
   "source": []
  }
 ],
 "metadata": {
  "kernelspec": {
   "display_name": "Python 3 (ipykernel)",
   "language": "python",
   "name": "python3"
  },
  "language_info": {
   "codemirror_mode": {
    "name": "ipython",
    "version": 3
   },
   "file_extension": ".py",
   "mimetype": "text/x-python",
   "name": "python",
   "nbconvert_exporter": "python",
   "pygments_lexer": "ipython3",
   "version": "3.12.3"
  }
 },
 "nbformat": 4,
 "nbformat_minor": 5
}
